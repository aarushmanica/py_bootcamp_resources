{
 "cells": [
  {
   "cell_type": "markdown",
   "id": "2d334435",
   "metadata": {},
   "source": [
    "## Project 1 (Countdown Timer)"
   ]
  },
  {
   "cell_type": "code",
   "execution_count": 1,
   "id": "82e441bf",
   "metadata": {},
   "outputs": [
    {
     "name": "stdout",
     "output_type": "stream",
     "text": [
      "Enter the time in seconds: 22\n",
      "Countdown timer is finished!\n"
     ]
    }
   ],
   "source": [
    "# import time module\n",
    "import time\n",
    "\n",
    "# CountDown func()\n",
    "def countdown(t):\n",
    "\t\n",
    "\twhile t:\n",
    "\t\tmins, secs = divmod(t, 60)\n",
    "\t\ttimer = '{:02d}:{:02d}'.format(mins, secs)\n",
    "\t\tprint(timer, end=\"\\r\")\n",
    "\t\ttime.sleep(1)\n",
    "\t\tt -= 1\n",
    "\t\n",
    "\tprint('Countdown timer is finished!')\n",
    "\n",
    "\n",
    "\n",
    "t = input(\"Enter the time in seconds: \")\n",
    "\n",
    "# Call countdown func()\n",
    "countdown(int(t))\n"
   ]
  },
  {
   "cell_type": "markdown",
   "id": "3fda0424",
   "metadata": {},
   "source": [
    "## Project 2 (Collatz Conjecture)"
   ]
  },
  {
   "cell_type": "code",
   "execution_count": 3,
   "id": "76ffe373",
   "metadata": {},
   "outputs": [
    {
     "name": "stdout",
     "output_type": "stream",
     "text": [
      "1\n",
      "7\n",
      "2\n",
      "5\n",
      "8\n"
     ]
    }
   ],
   "source": [
    "# Collatz Conjecture = 3x + 1\n",
    "'''\n",
    "If x is even, divide by 2 \n",
    "If x is odd, multiply by 3 and add 1\n",
    "'''\n",
    "\n",
    "def collatz_conjecture(cur_num, count=0):\n",
    "    if cur_num <= 1:\n",
    "        return count\n",
    "    if cur_num % 2 == 0:\n",
    "        return collatz_conjecture(cur_num / 2, count + 1)\n",
    "    else:\n",
    "        return collatz_conjecture(cur_num * 3 + 1, count + 1)\n",
    "    \n",
    "print (collatz_conjecture(2)) # Should output 1\n",
    "print (collatz_conjecture(3)) # Should output 7\n",
    "print (collatz_conjecture(4)) # Should output 2\n",
    "print (collatz_conjecture(5)) # Should output 5\n",
    "print (collatz_conjecture(6)) # Should output 8"
   ]
  },
  {
   "cell_type": "markdown",
   "id": "c587dd3e",
   "metadata": {},
   "source": [
    "## Project 3 (Cartoonify Image)"
   ]
  },
  {
   "cell_type": "code",
   "execution_count": 2,
   "id": "7c48a430",
   "metadata": {},
   "outputs": [
    {
     "name": "stdout",
     "output_type": "stream",
     "text": [
      "Requirement already satisfied: opencv-python in /Library/Frameworks/Python.framework/Versions/3.9/lib/python3.9/site-packages (4.5.5.62)\n",
      "Requirement already satisfied: numpy>=1.17.3 in /Library/Frameworks/Python.framework/Versions/3.9/lib/python3.9/site-packages (from opencv-python) (1.21.2)\n",
      "\u001b[33mWARNING: You are using pip version 21.2.4; however, version 22.2.2 is available.\n",
      "You should consider upgrading via the '/Library/Frameworks/Python.framework/Versions/3.9/bin/python3 -m pip install --upgrade pip' command.\u001b[0m\n",
      "Note: you may need to restart the kernel to use updated packages.\n"
     ]
    }
   ],
   "source": [
    "pip install opencv-python"
   ]
  },
  {
   "cell_type": "code",
   "execution_count": null,
   "id": "19bfefa8",
   "metadata": {},
   "outputs": [],
   "source": [
    "import cv2\n",
    "\n",
    "class Cartoonizer:\n",
    "\t\"\"\"Cartoonizer effect\n",
    "\t\tA class that applies a cartoon effect to an image.\n",
    "\t\tThe class uses a bilateral filter and adaptive thresholding to create\n",
    "\t\ta cartoon effect.\n",
    "\t\"\"\"\n",
    "\tdef __init__(self):\n",
    "\t\tpass\n",
    "\n",
    "\tdef render(self, img_rgb):\n",
    "\t\timg_rgb = cv2.imread(img_rgb)\n",
    "\t\timg_rgb = cv2.resize(img_rgb, (1366,768))\n",
    "\t\tnumDownSamples = 2\t # number of downscaling steps\n",
    "\t\tnumBilateralFilters = 50 # number of bilateral filtering steps\n",
    "\n",
    "\t\t# -- STEP 1 --\n",
    "\n",
    "\t\t# downsample image using Gaussian pyramid\n",
    "\t\timg_color = img_rgb\n",
    "\t\tfor _ in range(numDownSamples):\n",
    "\t\t\timg_color = cv2.pyrDown(img_color)\n",
    "\n",
    "\t\t#cv2.imshow(\"downcolor\",img_color)\n",
    "\t\t#cv2.waitKey(0)\n",
    "\t\t# repeatedly apply small bilateral filter instead of applying\n",
    "\t\t# one large filter\n",
    "\t\tfor _ in range(numBilateralFilters):\n",
    "\t\t\timg_color = cv2.bilateralFilter(img_color, 9, 9, 7)\n",
    "\n",
    "\t\t#cv2.imshow(\"bilateral filter\",img_color)\n",
    "\t\t#cv2.waitKey(0)\n",
    "\t\t# upsample image to original size\n",
    "\t\tfor _ in range(numDownSamples):\n",
    "\t\t\timg_color = cv2.pyrUp(img_color)\n",
    "\t\t#cv2.imshow(\"upscaling\",img_color)\n",
    "\t\t#cv2.waitKey(0)\n",
    "\n",
    "\t\t# -- STEPS 2 and 3 --\n",
    "\t\t# convert to grayscale and apply median blur\n",
    "\t\timg_gray = cv2.cvtColor(img_rgb, cv2.COLOR_RGB2GRAY)\n",
    "\t\timg_blur = cv2.medianBlur(img_gray, 3)\n",
    "\t\t#cv2.imshow(\"grayscale+median blur\",img_color)\n",
    "\t\t#cv2.waitKey(0)\n",
    "\n",
    "\t\t# -- STEP 4 --\n",
    "\t\t# detect and enhance edges\n",
    "\t\timg_edge = cv2.adaptiveThreshold(img_blur, 255,\n",
    "\t\t\t\t\t\t\t\t\t\tcv2.ADAPTIVE_THRESH_MEAN_C,\n",
    "\t\t\t\t\t\t\t\t\t\tcv2.THRESH_BINARY, 9, 2)\n",
    "\t\t#cv2.imshow(\"edge\",img_edge)\n",
    "\t\t#cv2.waitKey(0)\n",
    "\n",
    "\t\t# -- STEP 5 --\n",
    "\t\t# convert back to color so that it can be bit-ANDed with color image\n",
    "\t\t(x,y,z) = img_color.shape\n",
    "\t\timg_edge = cv2.resize(img_edge,(y,x))\n",
    "\t\timg_edge = cv2.cvtColor(img_edge, cv2.COLOR_GRAY2RGB)\n",
    "\t\tcv2.imwrite(\"edge.png\",img_edge)\n",
    "\t\t#cv2.imshow(\"step 5\", img_edge)\n",
    "\t\t#cv2.waitKey(0)\n",
    "\t\t#img_edge = cv2.resize(img_edge,(i for i in img_color.shape[:2]))\n",
    "\t\t#print img_edge.shape, img_color.shape\n",
    "\t\treturn cv2.bitwise_and(img_color, img_edge)\n",
    "\n",
    "tmp_canvas = Cartoonizer()\n",
    "\n",
    "file_name = \"melbourne.jpeg\" #File_name will come here\n",
    "res = tmp_canvas.render(file_name)\n",
    "\n",
    "cv2.imwrite(\"Cartoon version.jpg\", res)\n",
    "cv2.imshow(\"Cartoon version\", res)\n",
    "cv2.waitKey(0)\n",
    "cv2.destroyAllWindows()\n"
   ]
  },
  {
   "cell_type": "code",
   "execution_count": null,
   "id": "cfc8e4a3",
   "metadata": {},
   "outputs": [],
   "source": []
  },
  {
   "cell_type": "code",
   "execution_count": null,
   "id": "6a9f0627",
   "metadata": {},
   "outputs": [],
   "source": []
  },
  {
   "cell_type": "code",
   "execution_count": null,
   "id": "67b64588",
   "metadata": {},
   "outputs": [],
   "source": []
  }
 ],
 "metadata": {
  "kernelspec": {
   "display_name": "Python 3 (ipykernel)",
   "language": "python",
   "name": "python3"
  },
  "language_info": {
   "codemirror_mode": {
    "name": "ipython",
    "version": 3
   },
   "file_extension": ".py",
   "mimetype": "text/x-python",
   "name": "python",
   "nbconvert_exporter": "python",
   "pygments_lexer": "ipython3",
   "version": "3.9.1"
  }
 },
 "nbformat": 4,
 "nbformat_minor": 5
}
